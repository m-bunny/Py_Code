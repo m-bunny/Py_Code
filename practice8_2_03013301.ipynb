{
 "cells": [
  {
   "cell_type": "markdown",
   "metadata": {},
   "source": [
    "# 计算锅炉烟气特性表\n",
    "#### 题目大意\n",
    "* 某台锅炉燃烧烟煤，煤的元素分析成分为：Car=55.43%，Har=3.09%，Oar=4.13%，Nar=1.34%，Sar=0.34%，Aar=27.74%，Mar=7.93%，Vdaf=20.19%，低位发热量为Qar，net=21270kJ/kg，飞灰系数αfa=0.9。按照烟气的流程锅炉的各受热面积面名称及漏风系数均已给出。\n",
    "* 求烟气特性表。"
   ]
  },
  {
   "cell_type": "code",
   "execution_count": 2,
   "metadata": {
    "collapsed": false
   },
   "outputs": [
    {
     "name": "stdout",
     "output_type": "stream",
     "text": [
      "+------------------------------------+--------+--------+--------+---------+--------+--------+--------+\n",
      "|              项目名称              |  l,hp  |  d/gr  |  gzr   | dzr,psm |   sm   |   ky   |  ky,l  |\n",
      "+------------------------------------+--------+--------+--------+---------+--------+--------+--------+\n",
      "|        烟道进口过量空气系数        |  1.2   |  1.2   |  1.25  |   1.28  |  1.31  |  1.34  |  1.44  |\n",
      "|        烟道出口过量空气系数        |  1.2   |  1.25  |  1.28  |   1.31  |  1.34  |  1.44  |  1.54  |\n",
      "|        烟道平均空气过量系数        |  1.2   | 1.225  | 1.265  |  1.295  | 1.325  |  1.39  |  1.49  |\n",
      "|             过剩空气量             | 1.124  | 1.265  | 1.489  |  1.658  | 1.827  | 2.192  | 2.754  |\n",
      "|             水蒸气容积             |  0.55  | 0.552  | 0.556  |  0.559  | 0.561  | 0.567  | 0.576  |\n",
      "|             烟气总容积             | 7.162  | 7.304  | 7.533  |  7.704  | 7.875  | 8.247  | 8.818  |\n",
      "|         RO2占烟气容积份额          | 0.145  | 0.142  | 0.138  |  0.135  | 0.132  | 0.126  | 0.118  |\n",
      "|        水蒸气占烟气容积份额        | 0.077  | 0.076  | 0.074  |  0.073  | 0.071  | 0.069  | 0.065  |\n",
      "| 三原子气体和水蒸气占烟气容积总份额 | 0.222  | 0.218  | 0.211  |  0.207  | 0.203  | 0.194  | 0.183  |\n",
      "|              烟气质量              | 9.531  | 9.714  | 10.008 |  10.228 | 10.448 | 10.926 | 11.66  |\n",
      "|           飞灰无因次浓度           | 0.0262 | 0.0257 | 0.0249 |  0.0244 | 0.0239 | 0.0229 | 0.0214 |\n",
      "+------------------------------------+--------+--------+--------+---------+--------+--------+--------+\n"
     ]
    }
   ],
   "source": [
    "# -*- coding: utf-8 -*- \n",
    "from prettytable import PrettyTable\n",
    "\n",
    "# 题目中已经给出的值(一一对应）\n",
    "ratedData = {\"受热面名称\":[\"l,hp\",\"d/gr\",\"gzr\",\"dzr,psm\",\"sm\",\"ky\",\"ky,l\"],\n",
    "            \"漏风系数\":[1.2,0.05,0.03,0.03,0.03,0.1,0.1]}\n",
    "Car = 55.43\n",
    "Har = 3.09\n",
    "Oar = 4.13\n",
    "Nar = 1.34\n",
    "Sar = 0.34\n",
    "Aar = 27.74\n",
    "Mar = 7.93\n",
    "AlpgFa = 0.9\n",
    "\n",
    "#需要计算的烟气特性表的项目名称\n",
    "question = [\"烟道进口过量空气系数\",\"烟道出口过量空气系数\",\"烟道平均空气过量系数\",\"过剩空气量\",\"水蒸气容积\",\"烟气总容积\",\n",
    "            \"RO2占烟气容积份额\",\"水蒸气占烟气容积份额\",\"三原子气体和水蒸气占烟气容积总份额\",\"烟气质量\",\"飞灰无因次浓度\"]\n",
    "\n",
    "# 首先计算理论空气量三原子气体容积\n",
    "Vco2 = 1.866*Car/100\n",
    "Vso2 = 0.7*Sar/100\n",
    "VRo2 = Vco2+Vso2\n",
    "V0 = 0.0889*(Car+0.375*Sar)+0.265*Har-0.0333*Oar\n",
    "\n",
    "# 然后计算理论水蒸气、氮气和烟气容积\n",
    "V0H2O = 11.1*Har/100+1.24*Mar/100+0.0161*V0\n",
    "V0N2 = 0.79*V0+0.8*Nar/100\n",
    "V0g = VRo2+V0N2+V0H2O\n",
    "\n",
    "#计算烟气特性表\n",
    "result = {}\n",
    "#计算烟道进口过量空气系数\n",
    "Ralph1 = [1.2]\n",
    "tmp = 0\n",
    "for i in range(6):\n",
    "    tmp = tmp+ratedData[\"漏风系数\"][i]\n",
    "    Ralph1.append(float(str(round(tmp,3))))\n",
    "result[\"烟道进口过量空气系数\"]=Ralph1\n",
    "\n",
    "#计算烟道出口过量空气系数\n",
    "Ralph2 = []\n",
    "tmp = 0\n",
    "for i in range(7):\n",
    "    tmp = tmp+ratedData[\"漏风系数\"][i]\n",
    "    Ralph2.append(float(str(round(tmp,3))))\n",
    "result[\"烟道出口过量空气系数\"]=Ralph2\n",
    "\n",
    "#计算烟道平均空气过量系数\n",
    "RalphAvg = []\n",
    "for i in range(7):\n",
    "    tmp = (result[\"烟道进口过量空气系数\"][i]+result[\"烟道出口过量空气系数\"][i])/2\n",
    "    RalphAvg.append(float(str(round(tmp,3))))\n",
    "result[\"烟道平均空气过量系数\"]=RalphAvg\n",
    "\n",
    "#计算过剩空气量\n",
    "RV = []\n",
    "for i in range(7):\n",
    "    tmp = (result[\"烟道平均空气过量系数\"][i]-1)*V0\n",
    "    RV.append(float(str(round(tmp,3))))\n",
    "result[\"过剩空气量\"]=RV\n",
    "\n",
    "#计算水蒸气容积\n",
    "RVH2O = []\n",
    "for i in range(7):\n",
    "    tmp = V0H2O+0.0161*(result[\"烟道平均空气过量系数\"][i]-1)*V0\n",
    "    RVH2O.append(float(str(round(tmp,3))))\n",
    "result[\"水蒸气容积\"]=RVH2O\n",
    "\n",
    "#计算烟气总容积\n",
    "RVg = []\n",
    "for i in range(7):\n",
    "    tmp = VRo2+V0N2+V0H2O+(result[\"烟道平均空气过量系数\"][i]-1)*V0+0.0161*(result[\"烟道平均空气过量系数\"][i]-1)*V0\n",
    "    RVg.append(float(str(round(tmp,3))))\n",
    "result[\"烟气总容积\"]=RVg\n",
    "\n",
    "#计算RO2占烟气容积份额\n",
    "RrRO2 = []\n",
    "for i in range(7):\n",
    "    tmp = VRo2/result[\"烟气总容积\"][i]\n",
    "    RrRO2.append(float(str(round(tmp,3))))\n",
    "result[\"RO2占烟气容积份额\"]=RrRO2\n",
    "\n",
    "#计算水蒸气占烟气容积份额\n",
    "RrH2O = []\n",
    "for i in range(7):\n",
    "    tmp = result[\"水蒸气容积\"][i]/result[\"烟气总容积\"][i]\n",
    "    RrH2O.append(float(str(round(tmp,3))))\n",
    "result[\"水蒸气占烟气容积份额\"]=RrH2O\n",
    "\n",
    "#计算三原子气体和水蒸气占烟气容积总份额\n",
    "Rrn = []\n",
    "for i in range(7):\n",
    "    tmp = (result[\"水蒸气容积\"][i]+VRo2)/result[\"烟气总容积\"][i]\n",
    "    Rrn.append(float(str(round(tmp,3))))\n",
    "result[\"三原子气体和水蒸气占烟气容积总份额\"]=Rrn\n",
    "\n",
    "#计算烟气质量\n",
    "RGg = []\n",
    "for i in range(7):\n",
    "    tmp = 1-Aar/100+1.306*result[\"烟道平均空气过量系数\"][i]*V0\n",
    "    RGg.append(float(str(round(tmp,3))))\n",
    "result[\"烟气质量\"]=RGg\n",
    "\n",
    "#计算飞灰无因次浓度\n",
    "Ruf = []\n",
    "for i in range(7):\n",
    "    tmp = Aar*AlpgFa/(100*result[\"烟气质量\"][i])\n",
    "    Ruf.append(float(str(round(tmp,4))))\n",
    "result[\"飞灰无因次浓度\"]=Ruf\n",
    "\n",
    "#得出烟气特性表结果\n",
    "pTable=PrettyTable([\"项目名称\",\"l,hp\",\"d/gr\",\"gzr\",\"dzr,psm\",\"sm\",\"ky\",\"ky,l\"])\n",
    "for i in range(len(question)):\n",
    "    tempRow = [question[i]]+result[question[i]]\n",
    "    pTable.add_row(tempRow)\n",
    "    \n",
    "print(pTable)"
   ]
  },
  {
   "cell_type": "markdown",
   "metadata": {},
   "source": [
    "### 实验感受\n",
    "* 利用程序计算大量的重复计算时优势十分明显，且几乎不会出错，想起之前用计算器计算几十上百个数据，用程序真是极大地提高了学习和工作效率，可以将精力集中于其他更重要的方面。\n",
    "* 巩固了Python中字典和列表的用法。"
   ]
  },
  {
   "cell_type": "markdown",
   "metadata": {},
   "source": [
    "### 遇到的问题\n",
    "* 在实验8.2中，依旧遇到了与8.1类似的问题，即append到list中的float数据莫名其妙地被加上很多位数。而提供的数据及时只有3位也会出现这样的问题\n",
    "* 如下一段代码所示："
   ]
  },
  {
   "cell_type": "code",
   "execution_count": 3,
   "metadata": {
    "collapsed": false
   },
   "outputs": [
    {
     "name": "stdout",
     "output_type": "stream",
     "text": [
      "{'烟道进口过量空气系数': [1.2, 1.2, 1.25, 1.28, 1.31, 1.34, 1.4400000000000002]}\n"
     ]
    }
   ],
   "source": [
    "# -*- coding: utf-8 -*- \n",
    "\n",
    "ratedData = {\"受热面名称\":[\"l,hp\",\"d/gr\",\"gzr\",\"dzr,psm\",\"sm\",\"ky\",\"ky,l\"],\n",
    "            \"漏风系数\":[1.2,0.05,0.03,0.03,0.03,0.1,0.1]}\n",
    "result = {}\n",
    "Ralph1 = [1.2]\n",
    "tmp = 0\n",
    "for i in range(6):\n",
    "    tmp = tmp+ratedData[\"漏风系数\"][i]\n",
    "    Ralph1.append(tmp)\n",
    "result[\"烟道进口过量空气系数\"]=Ralph1\n",
    "\n",
    "print(result)"
   ]
  },
  {
   "cell_type": "markdown",
   "metadata": {},
   "source": [
    "* 可以看到同样出现了问题，暂时只能通过先转成string再转成float的方法将其避免，具体原因没能查到。"
   ]
  }
 ],
 "metadata": {
  "kernelspec": {
   "display_name": "Python 3",
   "language": "python",
   "name": "python3"
  },
  "language_info": {
   "codemirror_mode": {
    "name": "ipython",
    "version": 3
   },
   "file_extension": ".py",
   "mimetype": "text/x-python",
   "name": "python",
   "nbconvert_exporter": "python",
   "pygments_lexer": "ipython3",
   "version": "3.5.1"
  }
 },
 "nbformat": 4,
 "nbformat_minor": 0
}
